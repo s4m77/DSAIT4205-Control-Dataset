{
 "cells": [
  {
   "cell_type": "code",
   "execution_count": 1,
   "id": "a1bf1fbd",
   "metadata": {},
   "outputs": [],
   "source": [
    "import os\n",
    "import random\n",
    "import cv2\n",
    "import numpy as np\n",
    "import matplotlib.pyplot as plt\n",
    "from PIL import Image"
   ]
  },
  {
   "cell_type": "code",
   "execution_count": null,
   "id": "6035c480",
   "metadata": {},
   "outputs": [
    {
     "name": "stdout",
     "output_type": "stream",
     "text": [
      "Dataset directories created inside 'data'\n"
     ]
    }
   ],
   "source": [
    "SEED = 42\n",
    "BASE_DIR = 'data'\n",
    "TRAIN_DIR = os.path.join(BASE_DIR, 'train')\n",
    "VAL_DIR = os.path.join(BASE_DIR, 'val')\n",
    "\n",
    "np.random.seed(SEED)\n",
    "random.seed(SEED)\n",
    "for split in [TRAIN_DIR, VAL_DIR]:\n",
    "    os.makedirs(os.path.join(split, 'horizontal'), exist_ok=True)\n",
    "    os.makedirs(os.path.join(split, 'vertical'), exist_ok=True)\n",
    "    os.makedirs(os.path.join(split, 'oblique'), exist_ok=True)\n",
    "\n",
    "print(f\"Dataset directories created inside '{BASE_DIR}'\")"
   ]
  },
  {
   "cell_type": "code",
   "execution_count": null,
   "id": "2666993e",
   "metadata": {},
   "outputs": [
    {
     "data": {
      "image/png": "[encoded data removed]",
      "text/plain": [
       "<Figure size 800x400 with 2 Axes>"
      ]
     },
     "metadata": {},
     "output_type": "display_data"
    }
   ],
   "source": [
    "IMG_SIZE = 224\n",
    "LENGTH = 4\n",
    "IMG_PER_CLASS = 100\n",
    "PATCH_SIZE = 16\n",
    "\n",
    "def generate_line_image(size: int, o: str, l: int):\n",
    "    image = np.zeros((size, size, 3), dtype=np.uint8)\n",
    "\n",
    "    if o == 'horizontal' or o == 'vertical':\n",
    "        start = random.randint(0, size - l)\n",
    "        if o == 'horizontal':\n",
    "            image[start:start+l, :] = [255, 255, 255]\n",
    "        else: # vertical\n",
    "            image[:, start:start+l] = [255, 255, 255]\n",
    "            \n",
    "    elif o == 'oblique':\n",
    "\n",
    "        angle_deg = random.uniform(20, 70)\n",
    "        if random.random() < 0.5:\n",
    "            angle_deg = random.uniform(110, 160)\n",
    "        angle_rad = np.deg2rad(angle_deg)\n",
    "        \n",
    "        margin = size // 4\n",
    "        center_x = random.randint(margin, size - margin)\n",
    "        center_y = random.randint(margin, size - margin)\n",
    "        \n",
    "        line_len_helper = size \n",
    "        x1 = int(center_x - line_len_helper * np.cos(angle_rad))\n",
    "        y1 = int(center_y - line_len_helper * np.sin(angle_rad))\n",
    "        x2 = int(center_x + line_len_helper * np.cos(angle_rad))\n",
    "        y2 = int(center_y + line_len_helper * np.sin(angle_rad))\n",
    "        \n",
    "        cv2.line(image, (x1, y1), (x2, y2), (255, 255, 255), thickness=l)\n",
    "        \n",
    "    return image\n",
    "\n",
    "def show_imgs(size: int=IMG_SIZE, l: int=LENGTH):\n",
    "    fig, axes = plt.subplots(1, 2, figsize=(8, 4))\n",
    "    axes[0].imshow(generate_line_image(size, 'horizontal', l))\n",
    "    axes[0].set_title('Horizontal Line')\n",
    "    axes[0].axis('off')\n",
    "\n",
    "    axes[1].imshow(generate_line_image(size, 'vertical', l))\n",
    "    axes[1].set_title('Vertical Line')\n",
    "    axes[1].axis('off')\n",
    "\n",
    "    plt.show()\n",
    "\n",
    "show_imgs()"
   ]
  },
  {
   "cell_type": "code",
   "execution_count": 4,
   "id": "4861940e",
   "metadata": {},
   "outputs": [
    {
     "name": "stdout",
     "output_type": "stream",
     "text": [
      "Dataset generation complete.\n"
     ]
    }
   ],
   "source": [
    "def create_dataset_split(num_images):\n",
    "    for dir in [TRAIN_DIR, VAL_DIR]:\n",
    "        h_dir = os.path.join(dir, 'horizontal')\n",
    "        v_dir = os.path.join(dir, 'vertical')\n",
    "        o_dir = os.path.join(dir, 'oblique')\n",
    "        \n",
    "        current_num_images = num_images\n",
    "        if dir == VAL_DIR:\n",
    "            current_num_images = IMG_PER_CLASS // 5\n",
    "\n",
    "        for i in range(current_num_images):\n",
    "            # Horizontal\n",
    "            img_array_h = generate_line_image(IMG_SIZE, 'horizontal', LENGTH)\n",
    "            Image.fromarray(img_array_h).save(os.path.join(h_dir, f'h_{i:04d}.png'))\n",
    "            \n",
    "            # Vertical\n",
    "            img_array_v = generate_line_image(IMG_SIZE, 'vertical', LENGTH)\n",
    "            Image.fromarray(img_array_v).save(os.path.join(v_dir, f'v_{i:04d}.png'))\n",
    "            \n",
    "            # Oblique\n",
    "            img_array_o = generate_line_image(IMG_SIZE, 'oblique', LENGTH)\n",
    "            Image.fromarray(img_array_o).save(os.path.join(o_dir, f'o_{i:04d}.png'))\n",
    "\n",
    "create_dataset_split(IMG_PER_CLASS)\n",
    "print(\"Dataset generation complete.\")"
   ]
  },
  {
   "cell_type": "code",
   "execution_count": 12,
   "id": "e3f9f053",
   "metadata": {},
   "outputs": [
    {
     "data": {
      "image/png": "[encoded data removed]",
      "text/plain": [
       "<Figure size 1500x500 with 3 Axes>"
      ]
     },
     "metadata": {},
     "output_type": "display_data"
    }
   ],
   "source": [
    "def visualize_masking_strategies(image_array, patch_size: int):\n",
    "\n",
    "    # grey color for masked patches\n",
    "    mask_col = [128, 128, 128] \n",
    "    img_h, img_width, _ = image_array.shape\n",
    "    patches_h = img_h // patch_size\n",
    "    patches_w = img_width // patch_size\n",
    "    patches = patches_h * patches_w\n",
    "\n",
    "    # 1. random masking\n",
    "    rnd_masked_img = image_array.copy()\n",
    "    mask_ratio_rnd = 0.75\n",
    "    num_masked = int(patches * mask_ratio_rnd)\n",
    "    masked_idxs = np.random.permutation(patches)[:num_masked]\n",
    "    for idx in masked_idxs:\n",
    "        row = (idx // patches_w) * patch_size\n",
    "        col = (idx % patches_w) * patch_size\n",
    "        rnd_masked_img[row:row+patch_size, col:col+patch_size] = mask_col\n",
    "\n",
    "    # 2. block masking\n",
    "    block_masked_img = image_array.copy()\n",
    "    mask_ratio_block = 0.5\n",
    "    block_h_patches = int(patches_h * np.sqrt(mask_ratio_block))\n",
    "    block_w_patches = int(patches_w * np.sqrt(mask_ratio_block))\n",
    "    block_h = block_h_patches * patch_size\n",
    "    block_w = block_w_patches * patch_size\n",
    "    row = random.randint(0, img_h - block_h)\n",
    "    col = random.randint(0, img_width - block_w)\n",
    "    block_masked_img[row:row+block_h, col:col+block_w] = mask_col\n",
    "\n",
    "\n",
    "    fig, axis = plt.subplots(1, 3, figsize=(15, 5))\n",
    "    fig.suptitle('Comparison of Masking Strategies ', fontsize=16)\n",
    "\n",
    "    axis[0].imshow(image_array)\n",
    "    axis[0].set_title('Original Image')\n",
    "    axis[0].axis('off')\n",
    "\n",
    "    axis[1].imshow(rnd_masked_img)\n",
    "    axis[1].set_title(f'Random Masking ({int(mask_ratio_rnd*100)}%)')\n",
    "    axis[1].axis('off')\n",
    "    \n",
    "    axis[2].imshow(block_masked_img)\n",
    "    axis[2].set_title(f'Block Masking ({int(mask_ratio_block*100)}%)')\n",
    "    axis[2].axis('off')\n",
    "    plt.savefig('comparison_masking_strategies.png')\n",
    "    plt.show()\n",
    "\n",
    "sample_image = generate_line_image(IMG_SIZE, 'horizontal', LENGTH)\n",
    "visualize_masking_strategies(sample_image, patch_size=PATCH_SIZE)"
   ]
  },
  {
   "cell_type": "code",
   "execution_count": null,
   "id": "0a95675e",
   "metadata": {},
   "outputs": [],
   "source": []
  }
 ],
 "metadata": {
  "kernelspec": {
   "display_name": "frmdl",
   "language": "python",
   "name": "python3"
  },
  "language_info": {
   "codemirror_mode": {
    "name": "ipython",
    "version": 3
   },
   "file_extension": ".py",
   "mimetype": "text/x-python",
   "name": "python",
   "nbconvert_exporter": "python",
   "pygments_lexer": "ipython3",
   "version": "3.13.5"
  }
 },
 "nbformat": 4,
 "nbformat_minor": 5
}
